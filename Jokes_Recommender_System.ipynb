{
 "cells": [
  {
   "cell_type": "code",
   "execution_count": null,
   "metadata": {
    "collapsed": false
   },
   "outputs": [],
   "source": [
    "import pandas as pd\n",
    "import os\n",
    "from dataRetrieval import *"
   ]
  },
  {
   "cell_type": "markdown",
   "metadata": {},
   "source": [
    "### Data transformation : from excel to dateframe"
   ]
  },
  {
   "cell_type": "code",
   "execution_count": null,
   "metadata": {
    "collapsed": false
   },
   "outputs": [],
   "source": [
    "path = 'data/xls/'\n",
    "\n",
    "table1 = read_from_excel_file('jester-data-1.xls', path)\n",
    "table2 = read_from_excel_file('jester-data-2.xls', path)\n",
    "table3 = read_from_excel_file('jester-data-3.xls', path)\n",
    "\n",
    "print 'Shape of table1 : {}'.format(table1.shape)\n",
    "print 'Shape of table2 : {}'.format(table2.shape)\n",
    "print 'Shape of table3 : {}'.format(table3.shape)\n",
    "\n",
    "frames12 = [table1, table2]\n",
    "df12 = pd.concat(frames12)\n",
    "print 'Shape of result : {}'.format(df12.shape)\n",
    "\n",
    "frames13 = [table1, table3]\n",
    "df13 = pd.concat(frames13)\n",
    "print 'Shape of result : {}'.format(df13.shape)\n",
    "\n",
    "frames23 = [table2, table3]\n",
    "df23 = pd.concat(frames23)\n",
    "print 'Shape of result : {}'.format(df23.shape)\n",
    "\n",
    "store_to_csv(df, 'data/csv/', 'jester-12-data.csv')\n",
    "store_to_csv(df, 'data/csv/', 'jester-13-data.csv')\n",
    "store_to_csv(df, 'data/csv/', 'jester-23-data.csv')\n",
    "store_to_csv(table1, 'data/csv/', 'jester-1-data.csv')\n",
    "store_to_csv(table2, 'data/csv/', 'jester-2-data.csv')\n",
    "store_to_csv(table3, 'data/csv/', 'jester-3-data.csv')"
   ]
  },
  {
   "cell_type": "markdown",
   "metadata": {},
   "source": [
    "### Data loading"
   ]
  },
  {
   "cell_type": "code",
   "execution_count": 5,
   "metadata": {
    "collapsed": false
   },
   "outputs": [],
   "source": [
    "from dataRetrieval import *\n",
    "from sklearn.feature_extraction import DictVectorizer\n",
    "from sklearn.metrics import log_loss\n",
    "from pyfm import pylibfm\n",
    "from time import time"
   ]
  },
  {
   "cell_type": "markdown",
   "metadata": {},
   "source": [
    "#### Need about ~5 sec"
   ]
  },
  {
   "cell_type": "code",
   "execution_count": 2,
   "metadata": {
    "collapsed": false
   },
   "outputs": [
    {
     "name": "stdout",
     "output_type": "stream",
     "text": [
      "done in 4.913s.\n"
     ]
    }
   ],
   "source": [
    "t0 = time()\n",
    "data12 = read_from_csv_file('jester-12-data.csv')\n",
    "data13 = read_from_csv_file('jester-13-data.csv')\n",
    "data23 = read_from_csv_file('jester-23-data.csv')\n",
    "data1 = read_from_csv_file('jester-1-data.csv')\n",
    "data2 = read_from_csv_file('jester-2-data.csv')\n",
    "data3 = read_from_csv_file('jester-3-data.csv')\n",
    "\n",
    "df12 = data12.drop(['#rating'], axis=1).copy()\n",
    "df13 = data13.drop(['#rating'], axis=1).copy()\n",
    "df23 = data23.drop(['#rating'], axis=1).copy()\n",
    "df1 = data1.drop(['#rating'], axis=1).copy()\n",
    "df2 = data2.drop(['#rating'], axis=1).copy()\n",
    "df3 = data3.drop(['#rating'], axis=1).copy()\n",
    "print 'done in %0.3fs.' % (time() - t0)"
   ]
  },
  {
   "cell_type": "markdown",
   "metadata": {},
   "source": [
    "#### Need about ~30 sec"
   ]
  },
  {
   "cell_type": "code",
   "execution_count": 3,
   "metadata": {
    "collapsed": false
   },
   "outputs": [
    {
     "name": "stderr",
     "output_type": "stream",
     "text": [
      "                            "
     ]
    },
    {
     "name": "stdout",
     "output_type": "stream",
     "text": [
      "done in 29.767s.\n"
     ]
    },
    {
     "name": "stderr",
     "output_type": "stream",
     "text": [
      "\r"
     ]
    }
   ],
   "source": [
    "t0 = time()\n",
    "(train_data, y_train, train_users, train_items) = load_data(df12)\n",
    "(test_data, y_test, test_users, test_items) = load_data(df3)\n",
    "print 'done in %0.3fs.' % (time() - t0)"
   ]
  },
  {
   "cell_type": "markdown",
   "metadata": {},
   "source": [
    "#### Need about ~30 sec"
   ]
  },
  {
   "cell_type": "code",
   "execution_count": 4,
   "metadata": {
    "collapsed": false
   },
   "outputs": [
    {
     "name": "stdout",
     "output_type": "stream",
     "text": [
      "done in 30.696s.\n"
     ]
    }
   ],
   "source": [
    "t0 = time()\n",
    "v = DictVectorizer()\n",
    "X_train = v.fit_transform(train_data)\n",
    "X_test = v.transform(test_data)\n",
    "print 'done in %0.3fs.' % (time() - t0)"
   ]
  },
  {
   "cell_type": "markdown",
   "metadata": {},
   "source": [
    "#### Need about ~16 min for 10 iterations"
   ]
  },
  {
   "cell_type": "code",
   "execution_count": 6,
   "metadata": {
    "collapsed": false
   },
   "outputs": [
    {
     "name": "stdout",
     "output_type": "stream",
     "text": [
      "Creating validation dataset of 0.01 of training for adaptive regularization\n",
      "-- Epoch 1\n",
      "Training MSE: 11.41554\n",
      "-- Epoch 2\n",
      "Training MSE: 9.09404\n",
      "-- Epoch 3\n",
      "Training MSE: 8.21065\n",
      "-- Epoch 4\n",
      "Training MSE: 7.66758\n",
      "-- Epoch 5\n",
      "Training MSE: 7.30109\n",
      "-- Epoch 6\n",
      "Training MSE: 7.09915\n",
      "-- Epoch 7\n",
      "Training MSE: 6.98779\n",
      "-- Epoch 8\n",
      "Training MSE: 6.92607\n",
      "-- Epoch 9\n",
      "Training MSE: 6.88275\n",
      "-- Epoch 10\n",
      "Training MSE: 6.85400\n",
      "done in 968.310s.\n"
     ]
    }
   ],
   "source": [
    "t0 = time()\n",
    "fm = pylibfm.FM(num_factors=10, num_iter=10, verbose=True, task=\"regression\", initial_learning_rate=0.001, learning_rate_schedule=\"optimal\")\n",
    "fm.fit(X_train,y_train)\n",
    "print 'done in %0.3fs.' % (time() - t0)"
   ]
  },
  {
   "cell_type": "code",
   "execution_count": 35,
   "metadata": {
    "collapsed": false
   },
   "outputs": [
    {
     "ename": "ValueError",
     "evalue": "y_true and y_pred have different number of classes 21, 2",
     "output_type": "error",
     "traceback": [
      "\u001b[1;31m---------------------------------------------------------------------------\u001b[0m",
      "\u001b[1;31mValueError\u001b[0m                                Traceback (most recent call last)",
      "\u001b[1;32m<ipython-input-35-d385c83caedf>\u001b[0m in \u001b[0;36m<module>\u001b[1;34m()\u001b[0m\n\u001b[0;32m      1\u001b[0m \u001b[0mpred\u001b[0m \u001b[1;33m=\u001b[0m \u001b[0mnp\u001b[0m\u001b[1;33m.\u001b[0m\u001b[0mround\u001b[0m\u001b[1;33m(\u001b[0m\u001b[0mfm\u001b[0m\u001b[1;33m.\u001b[0m\u001b[0mpredict\u001b[0m\u001b[1;33m(\u001b[0m\u001b[0mX_test\u001b[0m\u001b[1;33m)\u001b[0m\u001b[1;33m)\u001b[0m\u001b[1;33m\u001b[0m\u001b[0m\n\u001b[0;32m      2\u001b[0m \u001b[0my_test\u001b[0m \u001b[1;33m=\u001b[0m \u001b[0mnp\u001b[0m\u001b[1;33m.\u001b[0m\u001b[0mround\u001b[0m\u001b[1;33m(\u001b[0m\u001b[0my_test\u001b[0m\u001b[1;33m)\u001b[0m\u001b[1;33m\u001b[0m\u001b[0m\n\u001b[1;32m----> 3\u001b[1;33m \u001b[1;32mprint\u001b[0m \u001b[1;34m\"Validation log loss: %.4f\"\u001b[0m \u001b[1;33m%\u001b[0m \u001b[0mlog_loss\u001b[0m\u001b[1;33m(\u001b[0m\u001b[0my_test\u001b[0m\u001b[1;33m,\u001b[0m \u001b[0mpred\u001b[0m\u001b[1;33m)\u001b[0m\u001b[1;33m\u001b[0m\u001b[0m\n\u001b[0m",
      "\u001b[1;32m/home/thebatou/anaconda/lib/python2.7/site-packages/sklearn/metrics/classification.pyc\u001b[0m in \u001b[0;36mlog_loss\u001b[1;34m(y_true, y_pred, eps, normalize, sample_weight)\u001b[0m\n\u001b[0;32m   1563\u001b[0m     \u001b[1;32mif\u001b[0m \u001b[0mT\u001b[0m\u001b[1;33m.\u001b[0m\u001b[0mshape\u001b[0m\u001b[1;33m[\u001b[0m\u001b[1;36m1\u001b[0m\u001b[1;33m]\u001b[0m \u001b[1;33m!=\u001b[0m \u001b[0mY\u001b[0m\u001b[1;33m.\u001b[0m\u001b[0mshape\u001b[0m\u001b[1;33m[\u001b[0m\u001b[1;36m1\u001b[0m\u001b[1;33m]\u001b[0m\u001b[1;33m:\u001b[0m\u001b[1;33m\u001b[0m\u001b[0m\n\u001b[0;32m   1564\u001b[0m         raise ValueError(\"y_true and y_pred have different number of classes \"\n\u001b[1;32m-> 1565\u001b[1;33m                          \"%d, %d\" % (T.shape[1], Y.shape[1]))\n\u001b[0m\u001b[0;32m   1566\u001b[0m \u001b[1;33m\u001b[0m\u001b[0m\n\u001b[0;32m   1567\u001b[0m     \u001b[1;31m# Renormalize\u001b[0m\u001b[1;33m\u001b[0m\u001b[1;33m\u001b[0m\u001b[0m\n",
      "\u001b[1;31mValueError\u001b[0m: y_true and y_pred have different number of classes 21, 2"
     ]
    }
   ],
   "source": [
    "pred = np.round(fm.predict(X_test))\n",
    "y_test = np.round(y_test)\n",
    "print \"Validation log loss: %.4f\" % log_loss(y_test, pred)"
   ]
  },
  {
   "cell_type": "code",
   "execution_count": 38,
   "metadata": {
    "collapsed": false
   },
   "outputs": [
    {
     "name": "stdout",
     "output_type": "stream",
     "text": [
      "[-10.  -9.  -8.  -7.  -6.  -5.  -4.  -3.  -2.  -1.  -0.   1.   2.   3.   4.\n",
      "   5.   6.   7.   8.   9.  10.]\n",
      "[-4. -3. -2. -1.  0.  1.  2.  3.]\n"
     ]
    }
   ],
   "source": [
    "print np.unique(y_test)\n",
    "print np.unique(pred)"
   ]
  }
 ],
 "metadata": {
  "kernelspec": {
   "display_name": "Python 2",
   "language": "python",
   "name": "python2"
  },
  "language_info": {
   "codemirror_mode": {
    "name": "ipython",
    "version": 2
   },
   "file_extension": ".py",
   "mimetype": "text/x-python",
   "name": "python",
   "nbconvert_exporter": "python",
   "pygments_lexer": "ipython2",
   "version": "2.7.10"
  }
 },
 "nbformat": 4,
 "nbformat_minor": 0
}
